{
 "cells": [
  {
   "cell_type": "markdown",
   "id": "858ac7e6",
   "metadata": {},
   "source": [
    "# 初识SimpleITK"
   ]
  },
  {
   "cell_type": "markdown",
   "id": "47379fdd",
   "metadata": {},
   "source": [
    "### 安装\n",
    "\n",
    "```\n",
    "pip install SimpleITK -i https://pypi.tuna.tsinghua.edu.cn/simple\n",
    "```"
   ]
  },
  {
   "cell_type": "code",
   "execution_count": 1,
   "id": "d1bc7fd3",
   "metadata": {},
   "outputs": [],
   "source": [
    "import SimpleITK as sitk"
   ]
  },
  {
   "cell_type": "code",
   "execution_count": 2,
   "id": "f782e638",
   "metadata": {},
   "outputs": [
    {
     "name": "stdout",
     "output_type": "stream",
     "text": [
      "Image (0000013D7C744B50)\n",
      "  RTTI typeinfo:   class itk::Image<int,3>\n",
      "  Reference Count: 1\n",
      "  Modified Time: 1837\n",
      "  Debug: Off\n",
      "  Object Name: \n",
      "  Observers: \n",
      "    none\n",
      "  Source: (none)\n",
      "  Source output name: (none)\n",
      "  Release Data: Off\n",
      "  Data Released: False\n",
      "  Global Release Data: Off\n",
      "  PipelineMTime: 1812\n",
      "  UpdateMTime: 1833\n",
      "  RealTimeStamp: 0 seconds \n",
      "  LargestPossibleRegion: \n",
      "    Dimension: 3\n",
      "    Index: [0, 0, 0]\n",
      "    Size: [508, 508, 66]\n",
      "  BufferedRegion: \n",
      "    Dimension: 3\n",
      "    Index: [0, 0, 0]\n",
      "    Size: [508, 508, 66]\n",
      "  RequestedRegion: \n",
      "    Dimension: 3\n",
      "    Index: [0, 0, 0]\n",
      "    Size: [508, 508, 66]\n",
      "  Spacing: [0.643701, 0.643701, 5.05813]\n",
      "  Origin: [-138.967, -163.492, -167.849]\n",
      "  Direction: \n",
      "1 0 0\n",
      "0 1 0\n",
      "0 0 1\n",
      "\n",
      "  IndexToPointMatrix: \n",
      "0.643701 0 0\n",
      "0 0.643701 0\n",
      "0 0 5.05813\n",
      "\n",
      "  PointToIndexMatrix: \n",
      "1.55352 0 0\n",
      "0 1.55352 0\n",
      "0 0 0.197702\n",
      "\n",
      "  Inverse Direction: \n",
      "1 0 0\n",
      "0 1 0\n",
      "0 0 1\n",
      "\n",
      "  PixelContainer: \n",
      "    ImportImageContainer (0000013D7C04A560)\n",
      "      RTTI typeinfo:   class itk::ImportImageContainer<unsigned __int64,int>\n",
      "      Reference Count: 1\n",
      "      Modified Time: 1830\n",
      "      Debug: Off\n",
      "      Object Name: \n",
      "      Observers: \n",
      "        none\n",
      "      Pointer: 0000013D00000040\n",
      "      Container manages memory: true\n",
      "      Size: 17032224\n",
      "      Capacity: 17032224\n",
      "\n",
      "size:(508, 508, 66)\n",
      "spacing:(0.643700897693634, 0.643700897693634, 5.058125972747803)\n"
     ]
    }
   ],
   "source": [
    "img = sitk.ReadImage('../code/test.nii.gz')\n",
    "print(img)\n",
    "print(f'size:{img.GetSize()}')\n",
    "print(f'spacing:{img.GetSpacing()}')"
   ]
  }
 ],
 "metadata": {
  "kernelspec": {
   "display_name": "Python 3 (ipykernel)",
   "language": "python",
   "name": "python3"
  },
  "language_info": {
   "codemirror_mode": {
    "name": "ipython",
    "version": 3
   },
   "file_extension": ".py",
   "mimetype": "text/x-python",
   "name": "python",
   "nbconvert_exporter": "python",
   "pygments_lexer": "ipython3",
   "version": "3.10.9"
  }
 },
 "nbformat": 4,
 "nbformat_minor": 5
}
